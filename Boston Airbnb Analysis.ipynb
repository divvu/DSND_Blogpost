{
 "cells": [
  {
   "cell_type": "markdown",
   "metadata": {},
   "source": [
    "# Insights of Boston Airbnb"
   ]
  },
  {
   "cell_type": "markdown",
   "metadata": {},
   "source": [
    "## CRISP-DM Process \n",
    "\n",
    "**Business Understanding**\n",
    "\n",
    "Boston Airbnb listing dataset is available on Kaggle, our prime motive is to enlighten traits of given listings.\n",
    "\n",
    "Three questions are raised around the interest:\n",
    "1. What is the price range with highest no. of listings?  \n",
    "2. What are the most popular amenities?  \n",
    "3. What are the top 10 neighbourhood?  \n",
    "\n",
    "**Data Understanding**\n",
    "\n",
    "Boston Airbnb listing has 3585 rows, 95 columns representing listing attributes.\n",
    "\n",
    "**Prepare Data**\n",
    "\n",
    "The preparation includes data cleaning, filling missing value.\n",
    "\n",
    "**Data Modeling**\n",
    "\n",
    "We will use ML models to get some interesting insights.  \n",
    "\n",
    "**Evaluate the Results**\n",
    "\n",
    "Results are summarized in the Medium post.\n",
    "https://medium.com/@divvu/insights-of-boston-airbnb-8d3452d6f8ef?sk=75d5f652dc7235d5bb33a8b76d8b3ace"
   ]
  },
  {
   "cell_type": "markdown",
   "metadata": {},
   "source": [
    "## Importing Libraries"
   ]
  },
  {
   "cell_type": "code",
   "execution_count": 153,
   "metadata": {
    "ExecuteTime": {
     "end_time": "2020-01-26T00:53:44.165231Z",
     "start_time": "2020-01-26T00:53:37.413672Z"
    }
   },
   "outputs": [],
   "source": [
    "# Visualization\n",
    "import numpy as np\n",
    "import pandas as pd\n",
    "import matplotlib.pyplot as plt\n",
    "\n",
    "# Sklearn ML Modules\n",
    "from sklearn.preprocessing import MultiLabelBinarizer,LabelEncoder,OneHotEncoder,StandardScaler \n",
    "\n",
    "# Dismiss the warnings\n",
    "import warnings\n",
    "warnings.filterwarnings('ignore')\n"
   ]
  },
  {
   "cell_type": "markdown",
   "metadata": {},
   "source": [
    "## Dataset Observation ##"
   ]
  },
  {
   "cell_type": "code",
   "execution_count": 154,
   "metadata": {
    "ExecuteTime": {
     "end_time": "2020-01-26T00:56:49.679873Z",
     "start_time": "2020-01-26T00:56:49.514879Z"
    }
   },
   "outputs": [],
   "source": [
    "# Import the dataset\n",
    "listing=pd.read_csv('listings.csv')"
   ]
  },
  {
   "cell_type": "code",
   "execution_count": 127,
   "metadata": {
    "ExecuteTime": {
     "end_time": "2020-01-26T00:56:50.113557Z",
     "start_time": "2020-01-26T00:56:50.090618Z"
    }
   },
   "outputs": [
    {
     "data": {
      "text/html": [
       "<div>\n",
       "<style scoped>\n",
       "    .dataframe tbody tr th:only-of-type {\n",
       "        vertical-align: middle;\n",
       "    }\n",
       "\n",
       "    .dataframe tbody tr th {\n",
       "        vertical-align: top;\n",
       "    }\n",
       "\n",
       "    .dataframe thead th {\n",
       "        text-align: right;\n",
       "    }\n",
       "</style>\n",
       "<table border=\"1\" class=\"dataframe\">\n",
       "  <thead>\n",
       "    <tr style=\"text-align: right;\">\n",
       "      <th></th>\n",
       "      <th>id</th>\n",
       "      <th>listing_url</th>\n",
       "      <th>scrape_id</th>\n",
       "      <th>last_scraped</th>\n",
       "      <th>name</th>\n",
       "      <th>summary</th>\n",
       "      <th>space</th>\n",
       "      <th>description</th>\n",
       "      <th>experiences_offered</th>\n",
       "      <th>neighborhood_overview</th>\n",
       "      <th>...</th>\n",
       "      <th>review_scores_value</th>\n",
       "      <th>requires_license</th>\n",
       "      <th>license</th>\n",
       "      <th>jurisdiction_names</th>\n",
       "      <th>instant_bookable</th>\n",
       "      <th>cancellation_policy</th>\n",
       "      <th>require_guest_profile_picture</th>\n",
       "      <th>require_guest_phone_verification</th>\n",
       "      <th>calculated_host_listings_count</th>\n",
       "      <th>reviews_per_month</th>\n",
       "    </tr>\n",
       "  </thead>\n",
       "  <tbody>\n",
       "    <tr>\n",
       "      <th>0</th>\n",
       "      <td>12147973</td>\n",
       "      <td>https://www.airbnb.com/rooms/12147973</td>\n",
       "      <td>20160906204935</td>\n",
       "      <td>2016-09-07</td>\n",
       "      <td>Sunny Bungalow in the City</td>\n",
       "      <td>Cozy, sunny, family home.  Master bedroom high...</td>\n",
       "      <td>The house has an open and cozy feel at the sam...</td>\n",
       "      <td>Cozy, sunny, family home.  Master bedroom high...</td>\n",
       "      <td>none</td>\n",
       "      <td>Roslindale is quiet, convenient and friendly. ...</td>\n",
       "      <td>...</td>\n",
       "      <td>NaN</td>\n",
       "      <td>f</td>\n",
       "      <td>NaN</td>\n",
       "      <td>NaN</td>\n",
       "      <td>f</td>\n",
       "      <td>moderate</td>\n",
       "      <td>f</td>\n",
       "      <td>f</td>\n",
       "      <td>1</td>\n",
       "      <td>NaN</td>\n",
       "    </tr>\n",
       "    <tr>\n",
       "      <th>1</th>\n",
       "      <td>3075044</td>\n",
       "      <td>https://www.airbnb.com/rooms/3075044</td>\n",
       "      <td>20160906204935</td>\n",
       "      <td>2016-09-07</td>\n",
       "      <td>Charming room in pet friendly apt</td>\n",
       "      <td>Charming and quiet room in a second floor 1910...</td>\n",
       "      <td>Small but cozy and quite room with a full size...</td>\n",
       "      <td>Charming and quiet room in a second floor 1910...</td>\n",
       "      <td>none</td>\n",
       "      <td>The room is in Roslindale, a diverse and prima...</td>\n",
       "      <td>...</td>\n",
       "      <td>9.0</td>\n",
       "      <td>f</td>\n",
       "      <td>NaN</td>\n",
       "      <td>NaN</td>\n",
       "      <td>t</td>\n",
       "      <td>moderate</td>\n",
       "      <td>f</td>\n",
       "      <td>f</td>\n",
       "      <td>1</td>\n",
       "      <td>1.30</td>\n",
       "    </tr>\n",
       "    <tr>\n",
       "      <th>2</th>\n",
       "      <td>6976</td>\n",
       "      <td>https://www.airbnb.com/rooms/6976</td>\n",
       "      <td>20160906204935</td>\n",
       "      <td>2016-09-07</td>\n",
       "      <td>Mexican Folk Art Haven in Boston</td>\n",
       "      <td>Come stay with a friendly, middle-aged guy in ...</td>\n",
       "      <td>Come stay with a friendly, middle-aged guy in ...</td>\n",
       "      <td>Come stay with a friendly, middle-aged guy in ...</td>\n",
       "      <td>none</td>\n",
       "      <td>The LOCATION: Roslindale is a safe and diverse...</td>\n",
       "      <td>...</td>\n",
       "      <td>10.0</td>\n",
       "      <td>f</td>\n",
       "      <td>NaN</td>\n",
       "      <td>NaN</td>\n",
       "      <td>f</td>\n",
       "      <td>moderate</td>\n",
       "      <td>t</td>\n",
       "      <td>f</td>\n",
       "      <td>1</td>\n",
       "      <td>0.47</td>\n",
       "    </tr>\n",
       "    <tr>\n",
       "      <th>3</th>\n",
       "      <td>1436513</td>\n",
       "      <td>https://www.airbnb.com/rooms/1436513</td>\n",
       "      <td>20160906204935</td>\n",
       "      <td>2016-09-07</td>\n",
       "      <td>Spacious Sunny Bedroom Suite in Historic Home</td>\n",
       "      <td>Come experience the comforts of home away from...</td>\n",
       "      <td>Most places you find in Boston are small howev...</td>\n",
       "      <td>Come experience the comforts of home away from...</td>\n",
       "      <td>none</td>\n",
       "      <td>Roslindale is a lovely little neighborhood loc...</td>\n",
       "      <td>...</td>\n",
       "      <td>10.0</td>\n",
       "      <td>f</td>\n",
       "      <td>NaN</td>\n",
       "      <td>NaN</td>\n",
       "      <td>f</td>\n",
       "      <td>moderate</td>\n",
       "      <td>f</td>\n",
       "      <td>f</td>\n",
       "      <td>1</td>\n",
       "      <td>1.00</td>\n",
       "    </tr>\n",
       "    <tr>\n",
       "      <th>4</th>\n",
       "      <td>7651065</td>\n",
       "      <td>https://www.airbnb.com/rooms/7651065</td>\n",
       "      <td>20160906204935</td>\n",
       "      <td>2016-09-07</td>\n",
       "      <td>Come Home to Boston</td>\n",
       "      <td>My comfy, clean and relaxing home is one block...</td>\n",
       "      <td>Clean, attractive, private room, one block fro...</td>\n",
       "      <td>My comfy, clean and relaxing home is one block...</td>\n",
       "      <td>none</td>\n",
       "      <td>I love the proximity to downtown, the neighbor...</td>\n",
       "      <td>...</td>\n",
       "      <td>10.0</td>\n",
       "      <td>f</td>\n",
       "      <td>NaN</td>\n",
       "      <td>NaN</td>\n",
       "      <td>f</td>\n",
       "      <td>flexible</td>\n",
       "      <td>f</td>\n",
       "      <td>f</td>\n",
       "      <td>1</td>\n",
       "      <td>2.25</td>\n",
       "    </tr>\n",
       "  </tbody>\n",
       "</table>\n",
       "<p>5 rows × 95 columns</p>\n",
       "</div>"
      ],
      "text/plain": [
       "         id                            listing_url       scrape_id  \\\n",
       "0  12147973  https://www.airbnb.com/rooms/12147973  20160906204935   \n",
       "1   3075044   https://www.airbnb.com/rooms/3075044  20160906204935   \n",
       "2      6976      https://www.airbnb.com/rooms/6976  20160906204935   \n",
       "3   1436513   https://www.airbnb.com/rooms/1436513  20160906204935   \n",
       "4   7651065   https://www.airbnb.com/rooms/7651065  20160906204935   \n",
       "\n",
       "  last_scraped                                           name  \\\n",
       "0   2016-09-07                     Sunny Bungalow in the City   \n",
       "1   2016-09-07              Charming room in pet friendly apt   \n",
       "2   2016-09-07               Mexican Folk Art Haven in Boston   \n",
       "3   2016-09-07  Spacious Sunny Bedroom Suite in Historic Home   \n",
       "4   2016-09-07                            Come Home to Boston   \n",
       "\n",
       "                                             summary  \\\n",
       "0  Cozy, sunny, family home.  Master bedroom high...   \n",
       "1  Charming and quiet room in a second floor 1910...   \n",
       "2  Come stay with a friendly, middle-aged guy in ...   \n",
       "3  Come experience the comforts of home away from...   \n",
       "4  My comfy, clean and relaxing home is one block...   \n",
       "\n",
       "                                               space  \\\n",
       "0  The house has an open and cozy feel at the sam...   \n",
       "1  Small but cozy and quite room with a full size...   \n",
       "2  Come stay with a friendly, middle-aged guy in ...   \n",
       "3  Most places you find in Boston are small howev...   \n",
       "4  Clean, attractive, private room, one block fro...   \n",
       "\n",
       "                                         description experiences_offered  \\\n",
       "0  Cozy, sunny, family home.  Master bedroom high...                none   \n",
       "1  Charming and quiet room in a second floor 1910...                none   \n",
       "2  Come stay with a friendly, middle-aged guy in ...                none   \n",
       "3  Come experience the comforts of home away from...                none   \n",
       "4  My comfy, clean and relaxing home is one block...                none   \n",
       "\n",
       "                               neighborhood_overview  ... review_scores_value  \\\n",
       "0  Roslindale is quiet, convenient and friendly. ...  ...                 NaN   \n",
       "1  The room is in Roslindale, a diverse and prima...  ...                 9.0   \n",
       "2  The LOCATION: Roslindale is a safe and diverse...  ...                10.0   \n",
       "3  Roslindale is a lovely little neighborhood loc...  ...                10.0   \n",
       "4  I love the proximity to downtown, the neighbor...  ...                10.0   \n",
       "\n",
       "  requires_license license jurisdiction_names instant_bookable  \\\n",
       "0                f     NaN                NaN                f   \n",
       "1                f     NaN                NaN                t   \n",
       "2                f     NaN                NaN                f   \n",
       "3                f     NaN                NaN                f   \n",
       "4                f     NaN                NaN                f   \n",
       "\n",
       "  cancellation_policy require_guest_profile_picture  \\\n",
       "0            moderate                             f   \n",
       "1            moderate                             f   \n",
       "2            moderate                             t   \n",
       "3            moderate                             f   \n",
       "4            flexible                             f   \n",
       "\n",
       "  require_guest_phone_verification calculated_host_listings_count  \\\n",
       "0                                f                              1   \n",
       "1                                f                              1   \n",
       "2                                f                              1   \n",
       "3                                f                              1   \n",
       "4                                f                              1   \n",
       "\n",
       "   reviews_per_month  \n",
       "0                NaN  \n",
       "1               1.30  \n",
       "2               0.47  \n",
       "3               1.00  \n",
       "4               2.25  \n",
       "\n",
       "[5 rows x 95 columns]"
      ]
     },
     "execution_count": 127,
     "metadata": {},
     "output_type": "execute_result"
    }
   ],
   "source": [
    "# Observe the data structure\n",
    "listing.head()"
   ]
  },
  {
   "cell_type": "code",
   "execution_count": 155,
   "metadata": {
    "ExecuteTime": {
     "end_time": "2020-01-26T00:56:50.753398Z",
     "start_time": "2020-01-26T00:56:50.735448Z"
    }
   },
   "outputs": [
    {
     "name": "stdout",
     "output_type": "stream",
     "text": [
      "<class 'pandas.core.frame.DataFrame'>\n",
      "RangeIndex: 3585 entries, 0 to 3584\n",
      "Data columns (total 95 columns):\n",
      "id                                  3585 non-null int64\n",
      "listing_url                         3585 non-null object\n",
      "scrape_id                           3585 non-null int64\n",
      "last_scraped                        3585 non-null object\n",
      "name                                3585 non-null object\n",
      "summary                             3442 non-null object\n",
      "space                               2528 non-null object\n",
      "description                         3585 non-null object\n",
      "experiences_offered                 3585 non-null object\n",
      "neighborhood_overview               2170 non-null object\n",
      "notes                               1610 non-null object\n",
      "transit                             2295 non-null object\n",
      "access                              2096 non-null object\n",
      "interaction                         2031 non-null object\n",
      "house_rules                         2393 non-null object\n",
      "thumbnail_url                       2986 non-null object\n",
      "medium_url                          2986 non-null object\n",
      "picture_url                         3585 non-null object\n",
      "xl_picture_url                      2986 non-null object\n",
      "host_id                             3585 non-null int64\n",
      "host_url                            3585 non-null object\n",
      "host_name                           3585 non-null object\n",
      "host_since                          3585 non-null object\n",
      "host_location                       3574 non-null object\n",
      "host_about                          2276 non-null object\n",
      "host_response_time                  3114 non-null object\n",
      "host_response_rate                  3114 non-null object\n",
      "host_acceptance_rate                3114 non-null object\n",
      "host_is_superhost                   3585 non-null object\n",
      "host_thumbnail_url                  3585 non-null object\n",
      "host_picture_url                    3585 non-null object\n",
      "host_neighbourhood                  3246 non-null object\n",
      "host_listings_count                 3585 non-null int64\n",
      "host_total_listings_count           3585 non-null int64\n",
      "host_verifications                  3585 non-null object\n",
      "host_has_profile_pic                3585 non-null object\n",
      "host_identity_verified              3585 non-null object\n",
      "street                              3585 non-null object\n",
      "neighbourhood                       3042 non-null object\n",
      "neighbourhood_cleansed              3585 non-null object\n",
      "neighbourhood_group_cleansed        0 non-null float64\n",
      "city                                3583 non-null object\n",
      "state                               3585 non-null object\n",
      "zipcode                             3547 non-null object\n",
      "market                              3571 non-null object\n",
      "smart_location                      3585 non-null object\n",
      "country_code                        3585 non-null object\n",
      "country                             3585 non-null object\n",
      "latitude                            3585 non-null float64\n",
      "longitude                           3585 non-null float64\n",
      "is_location_exact                   3585 non-null object\n",
      "property_type                       3582 non-null object\n",
      "room_type                           3585 non-null object\n",
      "accommodates                        3585 non-null int64\n",
      "bathrooms                           3571 non-null float64\n",
      "bedrooms                            3575 non-null float64\n",
      "beds                                3576 non-null float64\n",
      "bed_type                            3585 non-null object\n",
      "amenities                           3585 non-null object\n",
      "square_feet                         56 non-null float64\n",
      "price                               3585 non-null object\n",
      "weekly_price                        892 non-null object\n",
      "monthly_price                       888 non-null object\n",
      "security_deposit                    1342 non-null object\n",
      "cleaning_fee                        2478 non-null object\n",
      "guests_included                     3585 non-null int64\n",
      "extra_people                        3585 non-null object\n",
      "minimum_nights                      3585 non-null int64\n",
      "maximum_nights                      3585 non-null int64\n",
      "calendar_updated                    3585 non-null object\n",
      "has_availability                    0 non-null float64\n",
      "availability_30                     3585 non-null int64\n",
      "availability_60                     3585 non-null int64\n",
      "availability_90                     3585 non-null int64\n",
      "availability_365                    3585 non-null int64\n",
      "calendar_last_scraped               3585 non-null object\n",
      "number_of_reviews                   3585 non-null int64\n",
      "first_review                        2829 non-null object\n",
      "last_review                         2829 non-null object\n",
      "review_scores_rating                2772 non-null float64\n",
      "review_scores_accuracy              2762 non-null float64\n",
      "review_scores_cleanliness           2767 non-null float64\n",
      "review_scores_checkin               2765 non-null float64\n",
      "review_scores_communication         2767 non-null float64\n",
      "review_scores_location              2763 non-null float64\n",
      "review_scores_value                 2764 non-null float64\n",
      "requires_license                    3585 non-null object\n",
      "license                             0 non-null float64\n",
      "jurisdiction_names                  0 non-null float64\n",
      "instant_bookable                    3585 non-null object\n",
      "cancellation_policy                 3585 non-null object\n",
      "require_guest_profile_picture       3585 non-null object\n",
      "require_guest_phone_verification    3585 non-null object\n",
      "calculated_host_listings_count      3585 non-null int64\n",
      "reviews_per_month                   2829 non-null float64\n",
      "dtypes: float64(18), int64(15), object(62)\n",
      "memory usage: 2.6+ MB\n"
     ]
    }
   ],
   "source": [
    "# Describe the dataset\n",
    "listing.info()"
   ]
  },
  {
   "cell_type": "code",
   "execution_count": 156,
   "metadata": {
    "ExecuteTime": {
     "end_time": "2020-01-26T00:56:53.950756Z",
     "start_time": "2020-01-26T00:56:53.930079Z"
    }
   },
   "outputs": [
    {
     "data": {
      "text/plain": [
       "id                                  0.000000\n",
       "listing_url                         0.000000\n",
       "scrape_id                           0.000000\n",
       "last_scraped                        0.000000\n",
       "name                                0.000000\n",
       "summary                             0.039888\n",
       "space                               0.294840\n",
       "description                         0.000000\n",
       "experiences_offered                 0.000000\n",
       "neighborhood_overview               0.394700\n",
       "notes                               0.550907\n",
       "transit                             0.359833\n",
       "access                              0.415342\n",
       "interaction                         0.433473\n",
       "house_rules                         0.332497\n",
       "thumbnail_url                       0.167085\n",
       "medium_url                          0.167085\n",
       "picture_url                         0.000000\n",
       "xl_picture_url                      0.167085\n",
       "host_id                             0.000000\n",
       "host_url                            0.000000\n",
       "host_name                           0.000000\n",
       "host_since                          0.000000\n",
       "host_location                       0.003068\n",
       "host_about                          0.365132\n",
       "host_response_time                  0.131381\n",
       "host_response_rate                  0.131381\n",
       "host_acceptance_rate                0.131381\n",
       "host_is_superhost                   0.000000\n",
       "host_thumbnail_url                  0.000000\n",
       "                                      ...   \n",
       "guests_included                     0.000000\n",
       "extra_people                        0.000000\n",
       "minimum_nights                      0.000000\n",
       "maximum_nights                      0.000000\n",
       "calendar_updated                    0.000000\n",
       "has_availability                    1.000000\n",
       "availability_30                     0.000000\n",
       "availability_60                     0.000000\n",
       "availability_90                     0.000000\n",
       "availability_365                    0.000000\n",
       "calendar_last_scraped               0.000000\n",
       "number_of_reviews                   0.000000\n",
       "first_review                        0.210879\n",
       "last_review                         0.210879\n",
       "review_scores_rating                0.226778\n",
       "review_scores_accuracy              0.229568\n",
       "review_scores_cleanliness           0.228173\n",
       "review_scores_checkin               0.228731\n",
       "review_scores_communication         0.228173\n",
       "review_scores_location              0.229289\n",
       "review_scores_value                 0.229010\n",
       "requires_license                    0.000000\n",
       "license                             1.000000\n",
       "jurisdiction_names                  1.000000\n",
       "instant_bookable                    0.000000\n",
       "cancellation_policy                 0.000000\n",
       "require_guest_profile_picture       0.000000\n",
       "require_guest_phone_verification    0.000000\n",
       "calculated_host_listings_count      0.000000\n",
       "reviews_per_month                   0.210879\n",
       "Length: 95, dtype: float64"
      ]
     },
     "execution_count": 156,
     "metadata": {},
     "output_type": "execute_result"
    }
   ],
   "source": [
    "# Observe missing data\n",
    "listing.isnull().sum()/listing.shape[0]"
   ]
  },
  {
   "cell_type": "markdown",
   "metadata": {},
   "source": [
    " ## Q1. Price Range With Highest Listings"
   ]
  },
  {
   "cell_type": "code",
   "execution_count": 178,
   "metadata": {
    "ExecuteTime": {
     "end_time": "2020-01-26T00:56:55.133447Z",
     "start_time": "2020-01-26T00:56:55.123513Z"
    }
   },
   "outputs": [
    {
     "name": "stdout",
     "output_type": "stream",
     "text": [
      "Average per night price of listings is $173.93 with a minimum price of $10.00 and maximum price of whooping $4000.00.\n"
     ]
    }
   ],
   "source": [
    "# Convert Price to numerics.\n",
    "\n",
    "listing['price']=listing['price'].str.replace('[$,]','',regex=True).astype(float)\n",
    "\n",
    "print('Average per night price of listings is ${0:.2f} with a minimum price of ${1:.2f} and a maximum price of whopping ${2:.2f}.'.format(listing['price'].mean(),listing['price'].min(),listing['price'].max()))"
   ]
  },
  {
   "cell_type": "code",
   "execution_count": 190,
   "metadata": {
    "ExecuteTime": {
     "end_time": "2020-01-26T00:56:56.307029Z",
     "start_time": "2020-01-26T00:56:55.870205Z"
    }
   },
   "outputs": [
    {
     "data": {
      "image/png": "[encoded data removed]",
      "text/plain": [
       "<Figure size 720x720 with 1 Axes>"
      ]
     },
     "metadata": {},
     "output_type": "display_data"
    }
   ],
   "source": [
    "# Plot the price distribution\n",
    "plt.title('Price distribution')\n",
    "explode = (0, 0, 0.1, 0,0)\n",
    "out = pd.cut(listing.price, bins=[0, 50, 100, 200, 400, 10000], include_lowest=False)\n",
    "sizes = out.cat.categories\n",
    "ax = out.value_counts(sort=False).plot.pie(figsize=(10,10), explode=explode,autopct='%1.1f%%', shadow=True, startangle=90)"
   ]
  },
  {
   "cell_type": "markdown",
   "metadata": {},
   "source": [
    "#### We can see that the most of listings are priced in the range of 100 to 200 $."
   ]
  },
  {
   "cell_type": "markdown",
   "metadata": {},
   "source": [
    "## Q2. Most Popular Amenities"
   ]
  },
  {
   "cell_type": "code",
   "execution_count": 159,
   "metadata": {
    "ExecuteTime": {
     "end_time": "2020-01-10T06:50:12.344466Z",
     "start_time": "2020-01-10T06:50:12.311520Z"
    }
   },
   "outputs": [],
   "source": [
    "#cleaning the description of amenities\n",
    "amenities = listing['amenities'].apply(lambda x: [amenity.replace(\n",
    "    '\"', \"\").replace(\"{\", \"\").replace(\"}\", \"\") for amenity in x.split(\",\")])"
   ]
  },
  {
   "cell_type": "code",
   "execution_count": 160,
   "metadata": {
    "ExecuteTime": {
     "end_time": "2020-01-10T06:50:12.827392Z",
     "start_time": "2020-01-10T06:50:12.819415Z"
    }
   },
   "outputs": [
    {
     "data": {
      "text/plain": [
       "0       [TV, Wireless Internet, Kitchen, Free Parking ...\n",
       "1       [TV, Internet, Wireless Internet, Air Conditio...\n",
       "2       [TV, Cable TV, Wireless Internet, Air Conditio...\n",
       "3       [TV, Internet, Wireless Internet, Air Conditio...\n",
       "4       [Internet, Wireless Internet, Air Conditioning...\n",
       "5       [Cable TV, Wireless Internet, Air Conditioning...\n",
       "6       [TV, Internet, Wireless Internet, Kitchen, Fre...\n",
       "7       [TV, Internet, Wireless Internet, Air Conditio...\n",
       "8       [Wireless Internet, Pets live on this property...\n",
       "9       [TV, Cable TV, Internet, Wireless Internet, Ai...\n",
       "10      [TV, Wireless Internet, Air Conditioning, Kitc...\n",
       "11      [TV, Cable TV, Internet, Wireless Internet, Ai...\n",
       "12      [Cable TV, Wireless Internet, Air Conditioning...\n",
       "13      [TV, Internet, Wireless Internet, Air Conditio...\n",
       "14      [Internet, Wireless Internet, Kitchen, Free Pa...\n",
       "15      [TV, Internet, Wireless Internet, Air Conditio...\n",
       "16      [TV, Cable TV, Internet, Wireless Internet, Ki...\n",
       "17      [TV, Wireless Internet, Air Conditioning, Kitc...\n",
       "18      [Cable TV, Internet, Wireless Internet, Air Co...\n",
       "19      [TV, Internet, Wireless Internet, Air Conditio...\n",
       "20      [Internet, Wireless Internet, Air Conditioning...\n",
       "21      [TV, Internet, Wireless Internet, Air Conditio...\n",
       "22      [TV, Internet, Wireless Internet, Air Conditio...\n",
       "23      [TV, Internet, Wireless Internet, Kitchen, Fre...\n",
       "24      [TV, Cable TV, Internet, Wireless Internet, Ai...\n",
       "25      [TV, Cable TV, Internet, Wireless Internet, Ai...\n",
       "26      [Internet, Wireless Internet, Air Conditioning...\n",
       "27      [Wireless Internet, Free Parking on Premises, ...\n",
       "28      [Internet, Wireless Internet, Air Conditioning...\n",
       "29      [TV, Cable TV, Internet, Wireless Internet, Ai...\n",
       "                              ...                        \n",
       "3555    [Air Conditioning, Kitchen, Hot Tub, Indoor Fi...\n",
       "3556    [Wireless Internet, Kitchen, Free Parking on P...\n",
       "3557    [Wireless Internet, Air Conditioning, Kitchen,...\n",
       "3558    [TV, Cable TV, Internet, Wireless Internet, Ai...\n",
       "3559    [TV, Internet, Wireless Internet, Air Conditio...\n",
       "3560    [Wireless Internet, Kitchen, Free Parking on P...\n",
       "3561    [Internet, Wireless Internet, Pets live on thi...\n",
       "3562    [TV, Internet, Wireless Internet, Air Conditio...\n",
       "3563    [TV, Cable TV, Internet, Wireless Internet, Ai...\n",
       "3564    [Internet, Wireless Internet, Kitchen, Free Pa...\n",
       "3565    [Wireless Internet, Kitchen, Free Parking on P...\n",
       "3566    [TV, Wireless Internet, Air Conditioning, Heat...\n",
       "3567    [TV, Cable TV, Internet, Wireless Internet, Ai...\n",
       "3568    [Wireless Internet, Kitchen, Free Parking on P...\n",
       "3569    [TV, Internet, Wireless Internet, Air Conditio...\n",
       "3570    [TV, Cable TV, Internet, Wireless Internet, Ai...\n",
       "3571    [Wireless Internet, Kitchen, Heating, Washer, ...\n",
       "3572    [TV, Cable TV, Internet, Wireless Internet, Ai...\n",
       "3573    [Wireless Internet, Kitchen, Essentials, trans...\n",
       "3574    [Wireless Internet, Kitchen, Free Parking on P...\n",
       "3575    [Internet, Wireless Internet, Air Conditioning...\n",
       "3576    [Air Conditioning, Kitchen, Indoor Fireplace, ...\n",
       "3577    [TV, Wireless Internet, Heating, Family/Kid Fr...\n",
       "3578    [TV, Internet, Wireless Internet, Air Conditio...\n",
       "3579    [TV, Cable TV, Internet, Wireless Internet, Ki...\n",
       "3580    [Internet, Wireless Internet, Air Conditioning...\n",
       "3581    [TV, Internet, Wireless Internet, Air Conditio...\n",
       "3582    [translation missing: en.hosting_amenity_49, t...\n",
       "3583    [Kitchen, Gym, Family/Kid Friendly, Washer, Dr...\n",
       "3584    [Wireless Internet, Kitchen, Essentials, trans...\n",
       "Name: amenities, Length: 3585, dtype: object"
      ]
     },
     "execution_count": 160,
     "metadata": {},
     "output_type": "execute_result"
    }
   ],
   "source": [
    "amenities"
   ]
  },
  {
   "cell_type": "code",
   "execution_count": 161,
   "metadata": {
    "ExecuteTime": {
     "end_time": "2020-01-10T06:50:14.864026Z",
     "start_time": "2020-01-10T06:50:14.829116Z"
    }
   },
   "outputs": [
    {
     "name": "stdout",
     "output_type": "stream",
     "text": [
      "There are total 46 amenities.\n"
     ]
    }
   ],
   "source": [
    "#set MultiLabelBinarizer to separate amenities\n",
    "mlb = MultiLabelBinarizer()\n",
    "amenities_label = pd.DataFrame(mlb.fit_transform(\n",
    "    amenities), columns=mlb.classes_, index=amenities.index)\n",
    "\n",
    "# print(amenities_count.index)\n",
    "\n",
    "# Sum the amenities labels\n",
    "amenities_count=amenities_label.sum().sort_values(ascending=False)\n",
    "print('There are total {0} amenities.'.format(len(amenities_label.columns)))"
   ]
  },
  {
   "cell_type": "code",
   "execution_count": 152,
   "metadata": {
    "ExecuteTime": {
     "end_time": "2020-01-10T06:50:16.039700Z",
     "start_time": "2020-01-10T06:50:15.632681Z"
    }
   },
   "outputs": [
    {
     "data": {
      "text/plain": [
       "([0, 1, 2, 3, 4, 5, 6, 7, 8, 9], <a list of 10 Text xticklabel objects>)"
      ]
     },
     "execution_count": 152,
     "metadata": {},
     "output_type": "execute_result"
    },
    {
     "data": {
      "image/png": "[encoded data removed]",
      "text/plain": [
       "<Figure size 720x432 with 1 Axes>"
      ]
     },
     "metadata": {
      "needs_background": "light"
     },
     "output_type": "display_data"
    }
   ],
   "source": [
    "#Plotting top 10 frequent amenities.\n",
    "plt.figure(figsize=(10,6))\n",
    "plt.bar(amenities_count[:10].index,amenities_count[:10].values,color='b')\n",
    "plt.title('Top 10 Popular Amenities')\n",
    "plt.xlabel('Amenity')\n",
    "plt.ylabel('Frequency')\n",
    "plt.xticks(rotation=45)"
   ]
  },
  {
   "cell_type": "markdown",
   "metadata": {},
   "source": [
    "#### So, Yeah Wireless Internet is the most popular amentity."
   ]
  },
  {
   "cell_type": "markdown",
   "metadata": {},
   "source": [
    "## Q3. Top 10 Neighbourhood"
   ]
  },
  {
   "cell_type": "code",
   "execution_count": 203,
   "metadata": {},
   "outputs": [
    {
     "data": {
      "text/plain": [
       "<matplotlib.axes._subplots.AxesSubplot at 0x188034b0fd0>"
      ]
     },
     "execution_count": 203,
     "metadata": {},
     "output_type": "execute_result"
    },
    {
     "data": {
      "image/png": "[encoded data removed]",
      "text/plain": [
       "<Figure size 720x432 with 1 Axes>"
      ]
     },
     "metadata": {
      "needs_background": "light"
     },
     "output_type": "display_data"
    }
   ],
   "source": [
    "neighbour = listing.neighbourhood\n",
    "\n",
    "neighbour.value_counts().nlargest(10).plot(kind='bar', rot=45,title='Top 10 Neighbourhoods', color=\"b\", figsize=(10,6))"
   ]
  },
  {
   "cell_type": "markdown",
   "metadata": {},
   "source": [
    "#### We can see that Allston-Brighton has heighest no. of listings."
   ]
  },
  {
   "cell_type": "code",
   "execution_count": null,
   "metadata": {},
   "outputs": [],
   "source": []
  }
 ],
 "metadata": {
  "kernelspec": {
   "display_name": "Python 3",
   "language": "python",
   "name": "python3"
  },
  "language_info": {
   "codemirror_mode": {
    "name": "ipython",
    "version": 3
   },
   "file_extension": ".py",
   "mimetype": "text/x-python",
   "name": "python",
   "nbconvert_exporter": "python",
   "pygments_lexer": "ipython3",
   "version": "3.7.3"
  },
  "toc": {
   "base_numbering": 1,
   "nav_menu": {},
   "number_sections": true,
   "sideBar": true,
   "skip_h1_title": false,
   "title_cell": "Table of Contents",
   "title_sidebar": "Contents",
   "toc_cell": false,
   "toc_position": {},
   "toc_section_display": true,
   "toc_window_display": false
  },
  "varInspector": {
   "cols": {
    "lenName": 16,
    "lenType": 16,
    "lenVar": 40
   },
   "kernels_config": {
    "python": {
     "delete_cmd_postfix": "",
     "delete_cmd_prefix": "del ",
     "library": "var_list.py",
     "varRefreshCmd": "print(var_dic_list())"
    },
    "r": {
     "delete_cmd_postfix": ") ",
     "delete_cmd_prefix": "rm(",
     "library": "var_list.r",
     "varRefreshCmd": "cat(var_dic_list()) "
    }
   },
   "types_to_exclude": [
    "module",
    "function",
    "builtin_function_or_method",
    "instance",
    "_Feature"
   ],
   "window_display": false
  }
 },
 "nbformat": 4,
 "nbformat_minor": 2
}
